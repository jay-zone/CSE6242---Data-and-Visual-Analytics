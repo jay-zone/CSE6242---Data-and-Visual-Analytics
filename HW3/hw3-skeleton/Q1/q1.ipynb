{
 "cells": [
  {
   "cell_type": "markdown",
   "metadata": {},
   "source": [
    "# HW3 - Q1 [15 pts]\n",
    "\n",
    "\n",
    "\n",
    "## Important Notices\n",
    "\n",
    "<div class=\"alert alert-block alert-danger\">\n",
    "    WARNING: Do <strong>NOT</strong> add any cells to this Jupyter Notebook, because that will crash the autograder.\n",
    "</div>\n",
    "\n",
    "\n",
    "All instructions, code comments, etc. in this notebook **are part of the assignment instructions**. That is, if there is instructions about completing a task in this notebook, that task is not optional.  \n",
    "\n",
    "\n",
    "\n",
    "<div class=\"alert alert-block alert-info\">\n",
    "    You <strong>must</strong> implement the following functions in this notebook to receive credit.\n",
    "</div>\n",
    "\n",
    "\n",
    "`user()`\n",
    "\n",
    "`clean_data()`\n",
    "\n",
    "`common_pair()`\n",
    "\n",
    "`time_of_cheapest_fare()`\n",
    "\n",
    "`passenger_count_for_most_tip()`\n",
    "\n",
    "`day_with_traffic()`\n",
    "\n",
    "\n",
    "\n",
    "Each method will be auto-graded using different sets of parameters or data, to ensure that values are not hard-coded. You may assume we will only use your code to work with data from the NYC-TLC dataset during auto-grading. \n",
    "\n",
    "### Helper functions\n",
    "\n",
    "You are permitted to write additional helper functions, or use additional instance variables so long as the previously described functions work as required.\n",
    "\n",
    "<div class=\"alert alert-block alert-danger\">\n",
    "    WARNING: Do <strong>NOT</strong> remove or modify the following utility functions:\n",
    "</div>\n",
    "\n",
    "`load_data()`"
   ]
  },
  {
   "cell_type": "markdown",
   "metadata": {},
   "source": [
    "#### Pyspark Imports\n",
    "<span style=\"color:red\">*Please don't modify the below cell*</span>"
   ]
  },
  {
   "cell_type": "code",
   "execution_count": 1,
   "metadata": {},
   "outputs": [],
   "source": [
    "import pyspark\n",
    "from pyspark.sql import SQLContext\n",
    "from pyspark.sql.functions import hour, when, col, date_format, to_timestamp\n",
    "from pyspark.sql.functions import *"
   ]
  },
  {
   "cell_type": "markdown",
   "metadata": {},
   "source": [
    "#### Define Spark Context\n",
    "<span style=\"color:red\">*Please don't modify the below cell*</span>"
   ]
  },
  {
   "cell_type": "code",
   "execution_count": 2,
   "metadata": {},
   "outputs": [],
   "source": [
    "sc = pyspark.SparkContext(appName=\"HW3-Q1\")\n",
    "sqlContext = SQLContext(sc)"
   ]
  },
  {
   "cell_type": "markdown",
   "metadata": {},
   "source": [
    "#### Function to load data\n",
    "\n",
    "<span style=\"color:red\">*Please don't modify the below cell*</span>"
   ]
  },
  {
   "cell_type": "code",
   "execution_count": 3,
   "metadata": {},
   "outputs": [],
   "source": [
    "def load_data():\n",
    "    df = sqlContext.read.option(\"header\",True).csv(\"yellow_tripdata_2019-01_short.csv\")\n",
    "    return df"
   ]
  },
  {
   "cell_type": "code",
   "execution_count": 4,
   "metadata": {},
   "outputs": [
    {
     "name": "stdout",
     "output_type": "stream",
     "text": [
      "root\n",
      " |-- VendorID: string (nullable = true)\n",
      " |-- tpep_pickup_datetime: string (nullable = true)\n",
      " |-- tpep_dropoff_datetime: string (nullable = true)\n",
      " |-- passenger_count: string (nullable = true)\n",
      " |-- trip_distance: string (nullable = true)\n",
      " |-- RatecodeID: string (nullable = true)\n",
      " |-- store_and_fwd_flag: string (nullable = true)\n",
      " |-- PULocationID: string (nullable = true)\n",
      " |-- DOLocationID: string (nullable = true)\n",
      " |-- payment_type: string (nullable = true)\n",
      " |-- fare_amount: string (nullable = true)\n",
      " |-- extra: string (nullable = true)\n",
      " |-- mta_tax: string (nullable = true)\n",
      " |-- tip_amount: string (nullable = true)\n",
      " |-- tolls_amount: string (nullable = true)\n",
      " |-- improvement_surcharge: string (nullable = true)\n",
      " |-- total_amount: string (nullable = true)\n",
      " |-- congestion_surcharge: string (nullable = true)\n",
      "\n"
     ]
    }
   ],
   "source": [
    "df = load_data()\n",
    "df.printSchema()"
   ]
  },
  {
   "cell_type": "markdown",
   "metadata": {},
   "source": [
    "# Implement the functions below for this assignment:"
   ]
  },
  {
   "cell_type": "markdown",
   "metadata": {},
   "source": [
    "## 1. Update the `user()` function\n",
    "This function should return your GT username, eg: gburdell3"
   ]
  },
  {
   "cell_type": "code",
   "execution_count": 5,
   "metadata": {},
   "outputs": [],
   "source": [
    "def user():\n",
    "    \"\"\"\n",
    "    :return: string\n",
    "    your GTUsername, NOT your 9-Digit GTId  \n",
    "    \"\"\"  \n",
    "    return 'gburdell3'"
   ]
  },
  {
   "cell_type": "markdown",
   "metadata": {},
   "source": [
    "## 1a. [1 pts] Casting the columns into correct types\n",
    "\n",
    "To process the data accurately, cast the following columns into given data type: \n",
    "\n",
    "- `passenger_count` - integer \n",
    "- `total_amount` - float \n",
    "- `tip_amount` - float\n",
    "- `trip_distance` - float \n",
    "- `fare_amount` - float \n",
    "- `tpep_pickup_datetime` - timestamp \n",
    "- `tpep_dropoff_datetime` - timestamp \n",
    "\n",
    "All of the columns in the original data should be returned with the above columns converted to the correct data type."
   ]
  },
  {
   "cell_type": "code",
   "execution_count": 6,
   "metadata": {},
   "outputs": [],
   "source": [
    "def clean_data(df):\n",
    "    '''\n",
    "    input: df a dataframe\n",
    "    output: df a dataframe with the all the original columns\n",
    "    '''\n",
    "    \n",
    "    # START YOUR CODE HERE ---------\n",
    "    df = df.withColumn('passenger_count',df['passenger_count'].cast('int'))\n",
    "    df = df.withColumn('total_amount',df['total_amount'].cast('float'))\n",
    "    df = df.withColumn('tip_amount',df['tip_amount'].cast('float'))\n",
    "    df = df.withColumn('trip_distance',df['trip_distance'].cast('float'))\n",
    "    df = df.withColumn('fare_amount',df['fare_amount'].cast('float'))\n",
    "    df = df.withColumn('tpep_pickup_datetime',df['tpep_pickup_datetime'].cast('timestamp'))\n",
    "    df = df.withColumn('tpep_dropoff_datetime',df['tpep_dropoff_datetime'].cast('timestamp'))\n",
    "\n",
    "\n",
    "    # END YOUR CODE HERE -----------\n",
    "    return df"
   ]
  },
  {
   "cell_type": "code",
   "execution_count": 7,
   "metadata": {},
   "outputs": [
    {
     "name": "stdout",
     "output_type": "stream",
     "text": [
      "root\n",
      " |-- passenger_count: integer (nullable = true)\n",
      " |-- total_amount: float (nullable = true)\n",
      " |-- tip_amount: float (nullable = true)\n",
      " |-- trip_distance: float (nullable = true)\n",
      " |-- fare_amount: float (nullable = true)\n",
      " |-- tpep_pickup_datetime: timestamp (nullable = true)\n",
      " |-- tpep_pickup_datetime: timestamp (nullable = true)\n",
      "\n"
     ]
    }
   ],
   "source": [
    "df = clean_data(df)\n",
    "df.select(['passenger_count', 'total_amount', 'tip_amount', 'trip_distance', 'fare_amount', 'tpep_pickup_datetime', 'tpep_pickup_datetime']).printSchema()"
   ]
  },
  {
   "cell_type": "markdown",
   "metadata": {},
   "source": [
    "## 1b. [4 pts] What are the top 10 pickup-dropoff locations?\n",
    "\n",
    "Find the top 10 pickup-dropoff location pairs having the most number of trips (`count`). The location pairs should be ordered by `count` in descending order. If two or more pairs have the same number of trips, break the tie using the trip amount per distance travelled (`trip_rate`). Use columns `total_amount` and `trip_distance` to calculate the trip amount per distance. In certain situations, the pickup and dropoff locations may be the same.\n",
    "\n",
    "Example output showing expected formatting:\n",
    "\n",
    "```\n",
    "+------------+------------+-----+------------------+\n",
    "|PULocationID|DOLocationID|count|         trip_rate|\n",
    "+------------+------------+-----+------------------+\n",
    "|           5|           7|   24| 5.148195749283391|\n",
    "|           6|           4|   19| 1.420958193039484|\n",
    "|           3|           2|   15|9.1928382713049282|\n",
    "|           8|           8|   14|5.1029384838178493|\n",
    "|           1|           3|    9|7.4403919838271223|\n",
    "|           9|           2|    9|4.4039182884283829|\n",
    "|           5|           7|    6|  5.19283827172823|\n",
    "|           2|           1|    5| 9.233738511638532|\n",
    "|           1|           9|    3| 8.293827128489212|\n",
    "|           6|           6|    1| 4.192847382919223|\n",
    "+------------+------------+-----+------------------+\n",
    "```"
   ]
  },
  {
   "cell_type": "code",
   "execution_count": 8,
   "metadata": {},
   "outputs": [],
   "source": [
    "def common_pair(df):\n",
    "    '''\n",
    "    input: df a dataframe\n",
    "    output: df a dataframe with following columns:\n",
    "            - PULocationID\n",
    "            - DOLocationID\n",
    "            - count\n",
    "            - trip_rate\n",
    "            \n",
    "    trip_rate is the average amount (total_amount) per distance (trip_distance)\n",
    "    \n",
    "    '''\n",
    "    \n",
    "    # START YOUR CODE HERE ---------\n",
    "    \n",
    "    temp = df.select(\"PULocationID\", \"DOLocationID\", \"total_amount\", \"trip_distance\")\n",
    "    temp = temp.withColumn(\"trip_rate\", temp.total_amount/temp.trip_distance)\n",
    "    temp = temp.na.fill(0)\n",
    "    \n",
    "    temp1 = temp.select(\"PULocationID\", \"DOLocationID\", \"trip_rate\")\n",
    "    \n",
    "    \n",
    "    temp1 = temp1.groupBy(\"PULocationID\", \"DOLocationID\", \"trip_rate\").agg(count(\"*\").alias(\"count\"))\n",
    "    temp1 = temp1.orderBy([\"count\", \"trip_rate\"], ascending=False) \n",
    "#     temp1.show(5)\n",
    "    temp1 = temp1.select(\"PULocationID\", \"DOLocationID\", \"count\", \"trip_rate\")\n",
    "    return temp1\n",
    "    \n",
    "    \n",
    "\n",
    "\n"
   ]
  },
  {
   "cell_type": "code",
   "execution_count": 9,
   "metadata": {},
   "outputs": [
    {
     "name": "stdout",
     "output_type": "stream",
     "text": [
      "+------------+------------+-----+------------------+\n",
      "|PULocationID|DOLocationID|count|         trip_rate|\n",
      "+------------+------------+-----+------------------+\n",
      "|         234|         234|    5|               0.0|\n",
      "|         193|         193|    4|               0.0|\n",
      "|         239|         151|    3|6.1818182212262105|\n",
      "|          48|          48|    3|               0.0|\n",
      "|         161|         161|    3|               0.0|\n",
      "+------------+------------+-----+------------------+\n",
      "only showing top 5 rows\n",
      "\n"
     ]
    }
   ],
   "source": [
    "common_pair(df).show(5)"
   ]
  },
  {
   "cell_type": "markdown",
   "metadata": {},
   "source": [
    "## 1c. [4 pts] When is the trip cheapest (day vs night) ?\n",
    "\n",
    "Divide each day into two parts: Day (from 9am to 8:59:59pm), and Night (from 9pm to 8:59:59am) and find the average total amount per unit distance travelled (use column `total_amount`) for both time periods. Sort the result by `trip_rate` in ascending order to find when the fare rate is cheapest.\n",
    "\n",
    "Example output showing expected formatting:\n",
    "```\n",
    "+---------+-----------------+\n",
    "|day_night|        trip_rate|\n",
    "+---------+-----------------+\n",
    "|      Day|2.391827482920123|\n",
    "|    Night|4.292818223839121|\n",
    "+---------+-----------------+\n",
    "```"
   ]
  },
  {
   "cell_type": "code",
   "execution_count": 10,
   "metadata": {},
   "outputs": [],
   "source": [
    "def time_of_cheapest_fare(df):\n",
    "    '''\n",
    "    input: df a dataframe\n",
    "    output: df a dataframe with following columns:\n",
    "            - day_night\n",
    "            - trip_rate\n",
    "    \n",
    "    day_night will have 'Day' or 'Night' based on following conditions:\n",
    "        - From 9am to 8:59:59pm - Day\n",
    "        - From 9pm to 8:59:59am - Night\n",
    "            \n",
    "    trip_rate is the average amount (total_amount) per distance\n",
    "    \n",
    "    '''\n",
    "    df = df.withColumn('hour',hour(df.tpep_pickup_datetime))\n",
    "    df = df.withColumn('minute',minute(df.tpep_pickup_datetime))\n",
    "    df = df.withColumn('second',second(df.tpep_pickup_datetime))\n",
    "    df = df.withColumn(\"trip_rate\", df.total_amount/df.trip_distance)\n",
    "    df = df.withColumn(\"day_night\", when((col(\"hour\").cast(\"int\") >= 9) & (col(\"hour\").cast(\"int\") < 21), \"Day\").otherwise(\"Night\"))\n",
    "    df = df.groupBy(\"day_night\")\n",
    "    df = df.agg({\"trip_rate\":\"avg\"}).withColumnRenamed(\"avg(trip_rate)\", \"trip_rate\")\n",
    "    df = df.orderBy(\"trip_rate\")\n",
    "    # START YOUR CODE HERE ---------\n",
    "    #df.show(5)\n",
    "    \n",
    "    \n",
    "    # END YOUR CODE HERE -----------\n",
    "    \n",
    "    return df"
   ]
  },
  {
   "cell_type": "code",
   "execution_count": 11,
   "metadata": {},
   "outputs": [
    {
     "name": "stdout",
     "output_type": "stream",
     "text": [
      "+---------+-----------------+\n",
      "|day_night|        trip_rate|\n",
      "+---------+-----------------+\n",
      "|      Day|7.873021053350024|\n",
      "|    Night|8.144064591386332|\n",
      "+---------+-----------------+\n",
      "\n"
     ]
    }
   ],
   "source": [
    "time_of_cheapest_fare(df).show()"
   ]
  },
  {
   "cell_type": "markdown",
   "metadata": {},
   "source": [
    "## 1d. [3 pts] Which passenger group size gives the most tips?\n",
    "\n",
    "Filter the data for trips having fares (`fare_amount`) greater than $2 and the number of passengers (`passenger_count`) greater than 0. Find the average fare and tip (`tip_amount`) for all passenger group sizes and calculate the tip percent (`tip_amount * 100 / fare_amount`). Sort by the tip percent in descending order to get which group size tips most generously.\n",
    "\n",
    "Example output showing expected formatting:\n",
    "```\n",
    "+---------------+------------------+\n",
    "|passenger_count|       tip_percent|\n",
    "+---------------+------------------+\n",
    "|              4|20.129473829283771|\n",
    "|              2|16.203913838738283|\n",
    "|              3|14.283814930283822|\n",
    "|              1|13.393817383918287|\n",
    "|              6| 12.73928273747182|\n",
    "|              5|12.402938192848471|\n",
    "+---------------+------------------+\n",
    "```"
   ]
  },
  {
   "cell_type": "code",
   "execution_count": 12,
   "metadata": {},
   "outputs": [],
   "source": [
    "def passenger_count_for_most_tip(df):\n",
    "    '''\n",
    "    input: df a dataframe\n",
    "    output: df a dataframe with following columns:\n",
    "            - passenger_count\n",
    "            - tip_percent\n",
    "            \n",
    "    trip_percent is the percent of tip out of fare_amount\n",
    "    \n",
    "    '''\n",
    "    \n",
    "    # START YOUR CODE HERE ---------\n",
    "    df_filtered = df.filter(df.fare_amount>2)\n",
    "    df_filtered = df_filtered.filter(df.passenger_count>0)\n",
    "    df_filtered = df_filtered.groupBy(\"passenger_count\")\n",
    "    df_filtered = df_filtered.agg(avg(\"fare_amount\").alias(\"fare_amount\"), avg(\"tip_amount\").alias(\"tip_amount\"))\n",
    "    df_filtered = df_filtered.withColumn(\"tip_percent\", (df_filtered.tip_amount*100)/df_filtered.fare_amount)\n",
    "    df_filtered = df_filtered.select(\"passenger_count\", \"tip_percent\").orderBy(\"tip_percent\", ascending=False)\n",
    "    #df_filtered.show(5)\n",
    "    # END YOUR CODE HERE -----------\n",
    "    \n",
    "    return df_filtered"
   ]
  },
  {
   "cell_type": "code",
   "execution_count": 13,
   "metadata": {},
   "outputs": [
    {
     "name": "stdout",
     "output_type": "stream",
     "text": [
      "+---------------+------------------+\n",
      "|passenger_count|       tip_percent|\n",
      "+---------------+------------------+\n",
      "|              2|14.406226490643459|\n",
      "|              5|14.347176091134632|\n",
      "|              1|13.816545488299298|\n",
      "|              4|13.232489331848662|\n",
      "|              3| 13.11005447222511|\n",
      "|              6|13.096846913969197|\n",
      "+---------------+------------------+\n",
      "\n"
     ]
    }
   ],
   "source": [
    "passenger_count_for_most_tip(df).show()"
   ]
  },
  {
   "cell_type": "markdown",
   "metadata": {},
   "source": [
    "## 1e. [3 pts] Which day of week has the most traffic?\n",
    "\n",
    "Sort the days of the week based on traffic, with the day having the highest traffic on the top. You can estimate traffic on the day of the week based on the average speed of all taxi trips on that day of the week. (Speed can be calculated by using the trip time and trip distance. Make sure to print speed in distance / hour). If the `average_speed` is the same for two or more days, the days should be ordered alphabetically. A day with a low average speed indicates high levels of traffic. The average speed may be 0 indicating very high levels of traffic. Not all days of the week may be present. You should use `date_format` along with the appropriate [pattern letters](https://spark.apache.org/docs/latest/sql-ref-datetime-pattern.html) to format the day of the week.\n",
    "\n",
    "Example output showing expected formatting:\n",
    "```\n",
    "+-----------+------------------+\n",
    "|day_of_week|     average_speed|\n",
    "+-----------+------------------+\n",
    "|        Sat|               0.0|\n",
    "|        Tue|               0.0|\n",
    "|        Fri|7.2938133827293934|\n",
    "|        Mon|10.123938472718228|\n",
    "+-----------+------------------+\n",
    "```"
   ]
  },
  {
   "cell_type": "code",
   "execution_count": 14,
   "metadata": {},
   "outputs": [],
   "source": [
    "def day_with_traffic(df):\n",
    "    '''\n",
    "    input: df a dataframe\n",
    "    output: df a dataframe with following columns:\n",
    "            - day_of_week\n",
    "            - average_speed\n",
    "    \n",
    "    day_of_week should be day of week e.g.) Mon, Tue, Wed, ...\n",
    "    average_speed (miles/hour) is calculated as distance / time (in hours)\n",
    "    \n",
    "    '''\n",
    "    \n",
    "    # START YOUR CODE HERE ---------\n",
    "    \n",
    "    df_with_day = df.withColumn(\"day_of_week\", date_format(col(\"tpep_pickup_datetime\"), \"E\"))\n",
    "    df_with_day = df_with_day.withColumn(\"trip_time\", (col(\"tpep_dropoff_datetime\").cast(\"long\") - col(\"tpep_pickup_datetime\").cast(\"long\"))/60)\n",
    "    df_with_day = df_with_day.withColumn(\"speed\", (col(\"trip_distance\") / col(\"trip_time\")))\n",
    "    # END YOUR CODE HERE -----------\n",
    "    df_with_day = df_with_day.select(\"day_of_week\", \"speed\")\n",
    "    df_with_day = df_with_day.groupBy(\"day_of_week\").agg(avg(\"speed\").alias(\"average_speed\"))\n",
    "    df_with_day = df_with_day.sort(col(\"average_speed\").desc(), col(\"day_of_week\").asc())\n",
    "\n",
    "    return df_with_day"
   ]
  },
  {
   "cell_type": "code",
   "execution_count": 15,
   "metadata": {},
   "outputs": [
    {
     "name": "stdout",
     "output_type": "stream",
     "text": [
      "+-----------+-------------------+\n",
      "|day_of_week|      average_speed|\n",
      "+-----------+-------------------+\n",
      "|        Tue| 0.2028057448795266|\n",
      "|        Mon|0.19646847314663465|\n",
      "|        Fri|                0.0|\n",
      "|        Wed|                0.0|\n",
      "+-----------+-------------------+\n",
      "\n"
     ]
    }
   ],
   "source": [
    "day_with_traffic(df).show(5)"
   ]
  },
  {
   "cell_type": "code",
   "execution_count": null,
   "metadata": {},
   "outputs": [],
   "source": []
  },
  {
   "cell_type": "markdown",
   "metadata": {},
   "source": [
    "# HW3 - Q3 [35 pts]"
   ]
  },
  {
   "cell_type": "markdown",
   "metadata": {},
   "source": [
    "## Important Notices\n",
    "\n",
    "<div class=\"alert alert-block alert-danger\">\n",
    "    WARNING: Do <strong>NOT</strong> add any cells to this Jupyter Notebook, because that will crash the autograder.\n",
    "</div>\n",
    "\n",
    "<div class=\"alert alert-block alert-danger\">\n",
    "    WARNING: Do <strong>NOT</strong> implement any additional libraries into this workbook.\n",
    "</div>\n",
    "\n",
    "All instructions, code comments, etc. in this notebook **are part of the assignment instructions**. That is, if there is instructions about completing a task in this notebook, that task is not optional.  \n",
    "\n",
    "<div class=\"alert alert-block alert-info\">\n",
    "    You <strong>must</strong> implement the following functions in this notebook to receive credit.\n",
    "</div>\n",
    "\n",
    "`user()`\n",
    "\n",
    "`bucket()`\n",
    "\n",
    "`long_trips()`\n",
    "\n",
    "`manhattan_trips()`\n",
    "\n",
    "`weighted_profit()`\n",
    "\n",
    "`final_output()`\n",
    "\n",
    "Each method will be auto-graded using different sets of parameters or data, to ensure that values are not hard-coded.  You may assume we will only use your code to work with data from the NYC-TLC dataset during auto-grading.\n",
    "\n",
    "<div class=\"alert alert-block alert-danger\">\n",
    "    WARNING: Do <strong>NOT</strong> remove or modify the following utility functions:\n",
    "</div>\n",
    "\n",
    "`load_data()`\n",
    "\n",
    "`main()`"
   ]
  },
  {
   "cell_type": "markdown",
   "metadata": {},
   "source": [
    "<div class=\"alert alert-block alert-info\">\n",
    "    Do <strong>not</strong> change the below cell. Run it to initialize your PySpark instance. If you don't get any output, make sure your Notebook's Kernel is set to \"PySpark\" in the top right corner.\n",
    "</div>"
   ]
  },
  {
   "cell_type": "code",
   "execution_count": 16,
   "metadata": {},
   "outputs": [
    {
     "data": {
      "text/html": [
       "\n",
       "        <div>\n",
       "            <p><b>SparkContext</b></p>\n",
       "\n",
       "            <p><a href=\"http://4f7dd2ad72e9:4040\">Spark UI</a></p>\n",
       "\n",
       "            <dl>\n",
       "              <dt>Version</dt>\n",
       "                <dd><code>v3.0.1</code></dd>\n",
       "              <dt>Master</dt>\n",
       "                <dd><code>local[*]</code></dd>\n",
       "              <dt>AppName</dt>\n",
       "                <dd><code>HW3-Q1</code></dd>\n",
       "            </dl>\n",
       "        </div>\n",
       "        "
      ],
      "text/plain": [
       "<SparkContext master=local[*] appName=HW3-Q1>"
      ]
     },
     "execution_count": 16,
     "metadata": {},
     "output_type": "execute_result"
    }
   ],
   "source": [
    "sc"
   ]
  },
  {
   "cell_type": "markdown",
   "metadata": {},
   "source": [
    "<div class=\"alert alert-block alert-danger\">\n",
    "    WARNING: Do <strong>NOT</strong> remodify the below cell. It contains the function for loading data and all imports, and the function for running your code.\n",
    "</div>"
   ]
  },
  {
   "cell_type": "code",
   "execution_count": 38,
   "metadata": {},
   "outputs": [],
   "source": [
    "#### DO NOT CHANGE ANYTHING IN THIS CELL ####\n",
    "\n",
    "from pyspark.sql.functions import col\n",
    "from pyspark.sql import *\n",
    "from pyspark.sql import functions as F\n",
    "\n",
    "def load_data(size='small'):\n",
    "    # Loads the data for this question. Do not change this function.\n",
    "    # This function should only be called with the parameter 'small' or 'large'\n",
    "    \n",
    "    if size != 'small' and size != 'large':\n",
    "        print(\"Invalid size parameter provided. Use only 'small' or 'large'.\")\n",
    "        return\n",
    "    \n",
    "    input_bucket = \"s3://cse6242-spring2021\"\n",
    "    \n",
    "    # Load Trip Data\n",
    "    trip_path = '/'+size+'/yellow_tripdata*'\n",
    "    trips = sqlContext.read.option(\"header\",True).csv(\"yellow_tripdata_2019-01_short.csv\")\n",
    "    print(\"Trip Count: \",trips.count()) # Prints # of trips (# of records, as each record is one trip)\n",
    "    \n",
    "    # Load Lookup Data\n",
    "    lookup_path = '/'+size+'/taxi*'\n",
    "    lookup = sqlContext.read.option(\"header\",True).csv(\"taxi_zone_lookup.csv\")\n",
    "    \n",
    "    return trips, lookup\n",
    "\n",
    "def main(size, bucket):\n",
    "    # Runs your functions implemented above.\n",
    "    \n",
    "    print(user())\n",
    "    trips, lookup = load_data(size=size)\n",
    "    trips = long_trips(trips)\n",
    "    trips = trips.withColumn('passenger_count',trips['passenger_count'].cast('int'))\n",
    "    trips = trips.withColumn('total_amount',trips['total_amount'].cast('float'))\n",
    "    trips = trips.withColumn('tip_amount',trips['tip_amount'].cast('float'))\n",
    "    trips = trips.withColumn('trip_distance',trips['trip_distance'].cast('float'))\n",
    "    trips = trips.withColumn('fare_amount',trips['fare_amount'].cast('float'))\n",
    "    trips = trips.withColumn('tpep_pickup_datetime',trips['tpep_pickup_datetime'].cast('timestamp'))\n",
    "    trips = trips.withColumn('tpep_dropoff_datetime',trips['tpep_dropoff_datetime'].cast('timestamp'))\n",
    "    mtrips = manhattan_trips(trips, lookup)\n",
    "    wp = weighted_profit(trips, mtrips)\n",
    "    print(\"flag-----:\")\n",
    "    lookup.show(5)\n",
    "    final = final_output(wp,lookup)\n",
    "    \n",
    "    # Outputs the results for you to visually see\n",
    "    final.show()\n",
    "    \n",
    "    # Writes out as a CSV to your bucket.\n",
    "    #final.write.csv(bucket)"
   ]
  },
  {
   "cell_type": "markdown",
   "metadata": {},
   "source": [
    "# Implement the below functions for this assignment:\n",
    "<div class=\"alert alert-block alert-danger\">\n",
    "    WARNING: Do <strong>NOT</strong> change any function inputs or outputs, and ensure that the dataframes your code returns align with the schema definitions commented in each function\n",
    "</div>"
   ]
  },
  {
   "cell_type": "markdown",
   "metadata": {},
   "source": [
    "## 3a. [1 pt] Update the `user()` function\n",
    "This function should return your GT username, eg: gburdell3"
   ]
  },
  {
   "cell_type": "code",
   "execution_count": 39,
   "metadata": {},
   "outputs": [],
   "source": [
    "def user():\n",
    "    # Returns a string consisting of your GT username.\n",
    "    return 'zpatwary3'"
   ]
  },
  {
   "cell_type": "markdown",
   "metadata": {},
   "source": [
    "## 3b. [2 pts] Update the `long_trips()` function\n",
    "This function filters trips to keep only trips greater than or equal to 2 miles."
   ]
  },
  {
   "cell_type": "code",
   "execution_count": 40,
   "metadata": {},
   "outputs": [],
   "source": [
    "def long_trips(trips):\n",
    "    # Returns a Dataframe with Schema the same as :trips:\n",
    "    trips = trips.filter(trips.trip_distance >=2)\n",
    "    return trips"
   ]
  },
  {
   "cell_type": "markdown",
   "metadata": {},
   "source": [
    "## 3c. [6 pts] Update the `manhattan_trips()` function\n",
    "\n",
    "This function determines the top 20 locations with a `DOLocationID` in manhattan by passenger_count (pcount).\n",
    "\n",
    "Example output formatting:\n",
    "\n",
    "```\n",
    "+--------------+--------+\n",
    "| DOLocationID | pcount |\n",
    "+--------------+--------+\n",
    "|             5|      15|\n",
    "|            16|      12| \n",
    "+--------------+--------+\n",
    "```"
   ]
  },
  {
   "cell_type": "code",
   "execution_count": 41,
   "metadata": {},
   "outputs": [],
   "source": [
    "def manhattan_trips(trips, lookup):\n",
    "    # Returns a Dataframe with Schema: DOLocationID, pcount\n",
    "    man_lookup = lookup.filter(lookup.Borough==\"Manhattan\")\n",
    "    man_lookup_list = [row[0] for row in lookup.select('LocationId').collect()]\n",
    "    \n",
    "    man_trips = trips.where(col(\"DOLocationID\").isin(man_lookup_list))\n",
    "    man_trips = man_trips.select(\"DOLocationID\", \"passenger_count\")      \n",
    "    man_trips = man_trips.groupBy(\"DOLocationID\")\n",
    "    man_trips = man_trips.agg({'passenger_count':'sum'}).orderBy(col(\"sum(passenger_count)\").desc()).withColumnRenamed(\"sum(passenger_count)\", \"pcount\")\n",
    "    #man_trips.show(20)\n",
    "    return man_trips"
   ]
  },
  {
   "cell_type": "markdown",
   "metadata": {},
   "source": [
    "## 3d. [6 pts] Update the `weighted_profit()` function\n",
    "This function should determine the average `total_amount`, the total count of trips, and the total count of trips ending in the top 20 destinations and return the `weighted_profit` as discussed in the homework document.\n",
    "\n",
    "Example output formatting:\n",
    "```\n",
    "+--------------+-------------------+\n",
    "| PULocationID |  weighted_profit  |\n",
    "+--------------+-------------------+\n",
    "|            18| 33.784444421924436| \n",
    "|            12| 21.124577637149223| \n",
    "+--------------+-------------------+\n",
    "```"
   ]
  },
  {
   "cell_type": "code",
   "execution_count": 42,
   "metadata": {},
   "outputs": [],
   "source": [
    "def weighted_profit(trips, mtrips): \n",
    "    # Returns a Dataframe with Schema: PULocationID, weighted_profit\n",
    "    # Note: Use decimal datatype for weighted profit (NOTE: DON'T USE FLOAT)\n",
    "    # Our grader will be only be checking the first 8 characters for each value in the dataframe\n",
    "    \n",
    "    #trips.printSchema()\n",
    "    #mtrips.printSchema()\n",
    "    #avg_total_amount = trips.agg({'total_amount':'avg'}).withColumnRenamed(\"avg(total_amount)\", \"avg_total_amount\")\n",
    "    #avg_total_amount = trips.groupBy(\"PULocationID\").agg(F.mean('total_amount')).show(5)   #.withColumnRenamed(\"avg(total_amount)\", \"avg_total_amount\")\n",
    "    avg_total_amount = trips.groupBy(\"PULocationID\").avg( \"total_amount\").withColumnRenamed(\"avg(total_amount)\", \"avg_total_amount\")\n",
    "    #avg_total_amount.show(5)\n",
    "    \n",
    "    #    total count of trips from a PULocationID\n",
    "    trip_count_puloc = trips.groupBy(\"PULocationID\").count().withColumnRenamed(\"count\", \"count_trips\")\n",
    "    #trip_count_puloc.show(10)\n",
    "    \n",
    "    #   total count of trips ending in the top 20 destinations\n",
    "    top20_doloc = mtrips.limit(20)\n",
    "    #print(top20_trips.count())\n",
    "    top20_doloc_list = [row[0] for row in top20_doloc.select('DOLocationId').collect()]\n",
    "    top20_trips = trips.where(col(\"DOLocationID\").isin(top20_doloc_list))\n",
    "    #top20_trips.show()\n",
    "    trip_count_puloc_top20 = top20_trips.groupBy(\"PULocationID\").count().withColumnRenamed(\"count\", \"count_top20\")\n",
    "    #trip_count_puloc_top20.show(10)\n",
    "    \n",
    "    # Calculate proportion\n",
    "    # df004 = df003.as('a).join(trip_count_puloc_top20.as('b), $\"a.PULocationID\" === $\"b.PULocationID\",\"left\").select(trip_count_puloc(\"Borough\"), df003(\"number_activities\").alias(\"total_number_activities\")).na.fill(0)\n",
    "    df_prop = trip_count_puloc.join(trip_count_puloc_top20, \"PULocationID\") \\\n",
    "            .withColumn(\"proportion\", (col(\"count_top20\") / col(\"count_trips\"))) \\\n",
    "            .drop(\"count_trips\", \"count_top20\")\n",
    "    #df_prop.show(5)\n",
    "       \n",
    "    # Calculate weighted_profit\n",
    "    weighted_profit = df_prop.join(avg_total_amount, \"PULocationID\") \\\n",
    "            .withColumn(\"weighted_profit\", (col(\"avg_total_amount\") * col(\"proportion\"))) \\\n",
    "            .drop(\"avg_total_amount\", \"proportion\")\n",
    "    weighted_profit.show(5)\n",
    "    return weighted_profit\n",
    "    "
   ]
  },
  {
   "cell_type": "markdown",
   "metadata": {},
   "source": [
    "## 3e. [5 pts] Update the `final_output()` function\n",
    "This function will take the results of `weighted_profit`, links it to the `borough` and `zone` and returns the top 20 locations with the highest `weighted_profit`.\n",
    "\n",
    "Example output formatting:\n",
    "```\n",
    "+------------+---------+-------------------+\n",
    "|    Zone    | Borough |  weighted_profit  |\n",
    "+----------------------+-------------------+\n",
    "| JFK Airport|   Queens|  16.95897820117925|\n",
    "|     Jamaica|   Queens| 14.879835188762488|\n",
    "+------------+---------+-------------------+\n",
    "```"
   ]
  },
  {
   "cell_type": "code",
   "execution_count": 73,
   "metadata": {},
   "outputs": [],
   "source": [
    "def final_output(wp, lookup): \n",
    "    # Returns a Dataframe with Schema: Zone, Borough, weighted_profit\n",
    "    # Note: Use decimal datatype for weighted profit (NOTE: DON'T USE FLOAT)\n",
    "    # Our grader will be only be checking the first 8 characters for each value in the dataframe\n",
    "    \n",
    "    #df_final = wp.join(lookup, wp.PULocationID == lookup.LocationID,\"left\").select(lookup(\"Zone\"), wp(\"weighted_profit\")).na.fill(0) \n",
    "            #.drop(\"avg_total_amount\", \"proportion\")\n",
    "    \n",
    "    #lookup.show()\n",
    "    #print(lookup)\n",
    "    #df_final = wp.withColumn(\"id\", col(\"PULocationID\")).join(lookup.withColumn(\"id\", col(\"LocationID\")), on=\"id\").select(\"lookup.Zone\", \"lookup.Borough\", \"wp.weighted_profit\")\n",
    "    #df_final.show(5)\n",
    "    #return df_final\n",
    "    #print(\"WP\")\n",
    "    #wp.show(5)\n",
    "    print(\"LOOKUP\")\n",
    "    #lookup.show(5)\n",
    "        \n",
    "    #print(lookup)\n",
    "    #df_final = wp.withColumn(\"id\", col(\"PULocationID\")).join(lookup.withColumn(\"id\", col(\"LocationID\")), on=\"id\").select(\"lookup.Zone\", \"lookup.Borough\", \"wp.weighted_profit\")\n",
    "    #df_final.show(5)\n",
    "    #return df_final\n",
    "    wp = wp.join(lookup, wp.PULocationID == lookup.LocationID, 'inner')\n",
    "    wp = wp.select(\"Zone\",\"Borough\",\"weighted_profit\")\n",
    "    wp = wp.orderBy(col(\"weighted_profit\").desc())\n",
    "    wp.show(5)\n",
    "    return wp\n"
   ]
  },
  {
   "cell_type": "markdown",
   "metadata": {},
   "source": [
    "<div class=\"alert alert-block alert-info\">\n",
    "    Test your code on the small dataset first, as the large dataset will take a significantly longer time to run\n",
    "</div>\n",
    "\n",
    "<div class=\"alert alert-block alert-danger\">\n",
    "    WARNING: Do <strong>NOT</strong> use the same bucket url for multiple runs of the `main()` function, as this will cause errors. Make sure to change the name of your output location every time. (ie: s3://cse6242-gburdell3/output-small2)\n",
    "</div>\n",
    "\n",
    "Update the below cell with the path to your bucket, then run the below cell to run your code to store the results in S3.\n",
    "\n",
    "When you have confirmed the results of the small dataset, run it again using the large dataset. Your output file will appear in a folder in your s3 bucket called YOUROUTPUT.csv as a csv file with a name something like part-0000-4d992f7a-0ad3-48f8-8c72-0022984e4b50-c000.csv. Download this file and rename it to q3_output.csv for submission. Do not make any other changes to the file. "
   ]
  },
  {
   "cell_type": "code",
   "execution_count": 74,
   "metadata": {},
   "outputs": [
    {
     "name": "stdout",
     "output_type": "stream",
     "text": [
      "zpatwary3\n",
      "Trip Count:  6499\n",
      "+------------+------------------+\n",
      "|PULocationID|   weighted_profit|\n",
      "+------------+------------------+\n",
      "|         125|6.6415624767541885|\n",
      "|           7| 6.158333248562283|\n",
      "|         234| 9.323130079537384|\n",
      "|         232| 10.42407406700982|\n",
      "|         132| 6.583787873555762|\n",
      "+------------+------------------+\n",
      "only showing top 5 rows\n",
      "\n",
      "flag-----:\n",
      "+----------+-------------+--------------------+------------+\n",
      "|LocationID|      Borough|                Zone|service_zone|\n",
      "+----------+-------------+--------------------+------------+\n",
      "|         1|          EWR|      Newark Airport|         EWR|\n",
      "|         2|       Queens|         Jamaica Bay|   Boro Zone|\n",
      "|         3|        Bronx|Allerton/Pelham G...|   Boro Zone|\n",
      "|         4|    Manhattan|       Alphabet City| Yellow Zone|\n",
      "|         5|Staten Island|       Arden Heights|   Boro Zone|\n",
      "+----------+-------------+--------------------+------------+\n",
      "only showing top 5 rows\n",
      "\n",
      "LOOKUP\n",
      "+--------------------+--------+------------------+\n",
      "|                Zone| Borough|   weighted_profit|\n",
      "+--------------------+--------+------------------+\n",
      "|         Kew Gardens|  Queens|48.560001373291016|\n",
      "|     Carroll Gardens|Brooklyn|  36.1299991607666|\n",
      "|Van Cortlandt Vil...|   Bronx|25.299999237060547|\n",
      "|Long Island City/...|  Queens|  21.9022216796875|\n",
      "|                  NV| Unknown|18.742718021945738|\n",
      "+--------------------+--------+------------------+\n",
      "only showing top 5 rows\n",
      "\n",
      "+--------------------+---------+------------------+\n",
      "|                Zone|  Borough|   weighted_profit|\n",
      "+--------------------+---------+------------------+\n",
      "|         Kew Gardens|   Queens|48.560001373291016|\n",
      "|     Carroll Gardens| Brooklyn|  36.1299991607666|\n",
      "|Van Cortlandt Vil...|    Bronx|25.299999237060547|\n",
      "|Long Island City/...|   Queens|  21.9022216796875|\n",
      "|                  NV|  Unknown|18.742718021945738|\n",
      "| Crown Heights North| Brooklyn|17.739999771118164|\n",
      "|            Woodside|   Queens|16.714999675750732|\n",
      "|         Cobble Hill| Brooklyn| 14.31749963760376|\n",
      "|Times Sq/Theatre ...|Manhattan|13.587200164794922|\n",
      "|    Garment District|Manhattan| 13.44120002746582|\n",
      "|Meatpacking/West ...|Manhattan|13.178639397869846|\n",
      "|   Battery Park City|Manhattan|12.934293411445092|\n",
      "| UN/Turtle Bay South|Manhattan|12.309413945967847|\n",
      "|   LaGuardia Airport|   Queens|12.242854455468336|\n",
      "|Greenwich Village...|Manhattan| 11.91772287816902|\n",
      "|            Flatiron|Manhattan|11.358478245527849|\n",
      "| Morningside Heights|Manhattan|10.810943920898437|\n",
      "|        West Village|Manhattan|10.806219414966863|\n",
      "|     Lower East Side|Manhattan|10.481865368880234|\n",
      "|         Murray Hill|Manhattan|10.479968989683577|\n",
      "+--------------------+---------+------------------+\n",
      "only showing top 20 rows\n",
      "\n"
     ]
    }
   ],
   "source": [
    "# update your bucket path\n",
    "bucket = 's3://cse6242-zpatwary3/output-small'\n",
    "main('small', bucket)\n",
    "\n",
    "# bucket = 's3://cse6242-zpatwary3/output-large'\n",
    "# main('large', bucket)"
   ]
  },
  {
   "cell_type": "markdown",
   "metadata": {},
   "source": [
    "#### Testing\n",
    "\n",
    "<div class=\"alert alert-block alert-info\">\n",
    "    You may use the below cell for any additional testing you need to do, however any code implemented below will not be run or used when grading\n",
    "</div>"
   ]
  },
  {
   "cell_type": "code",
   "execution_count": null,
   "metadata": {},
   "outputs": [],
   "source": []
  },
  {
   "cell_type": "code",
   "execution_count": null,
   "metadata": {},
   "outputs": [],
   "source": []
  }
 ],
 "metadata": {
  "kernelspec": {
   "display_name": "Python 3",
   "language": "python",
   "name": "python3"
  },
  "language_info": {
   "codemirror_mode": {
    "name": "ipython",
    "version": 3
   },
   "file_extension": ".py",
   "mimetype": "text/x-python",
   "name": "python",
   "nbconvert_exporter": "python",
   "pygments_lexer": "ipython3",
   "version": "3.6.9"
  }
 },
 "nbformat": 4,
 "nbformat_minor": 2
}
